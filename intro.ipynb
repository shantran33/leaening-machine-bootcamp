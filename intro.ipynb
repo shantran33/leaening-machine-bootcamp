{
  "nbformat": 4,
  "nbformat_minor": 0,
  "metadata": {
    "colab": {
      "provenance": [],
      "authorship_tag": "ABX9TyOKNDQXQ0WEfi5IG54ozNYe",
      "include_colab_link": true
    },
    "kernelspec": {
      "name": "python3",
      "display_name": "Python 3"
    },
    "language_info": {
      "name": "python"
    }
  },
  "cells": [
    {
      "cell_type": "markdown",
      "metadata": {
        "id": "view-in-github",
        "colab_type": "text"
      },
      "source": [
        "<a href=\"https://colab.research.google.com/github/shantran33/leaening-machine-bootcamp/blob/main/intro.ipynb\" target=\"_parent\"><img src=\"https://colab.research.google.com/assets/colab-badge.svg\" alt=\"Open In Colab\"/></a>"
      ]
    },
    {
      "cell_type": "code",
      "execution_count": null,
      "metadata": {
        "colab": {
          "base_uri": "https://localhost:8080/"
        },
        "id": "5VuXzTWb6TiN",
        "outputId": "d9733469-1b27-47a1-fe79-ef0750e8992c"
      },
      "outputs": [
        {
          "output_type": "stream",
          "name": "stdout",
          "text": [
            "Hello colab\n"
          ]
        }
      ],
      "source": [
        "print ('Hello colab')"
      ]
    },
    {
      "cell_type": "code",
      "source": [
        "#@title Domyślny tekst tytułu\n",
        "### Tekst"
      ],
      "metadata": {
        "id": "yMJtD4dr6ZY3"
      },
      "execution_count": null,
      "outputs": []
    }
  ]
}